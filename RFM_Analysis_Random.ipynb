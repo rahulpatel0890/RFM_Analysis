{
 "cells": [
  {
   "cell_type": "raw",
   "metadata": {},
   "source": [
    "RFM data analysis is a powerful technique used in marketing and customer relationship management to segment and understand customer behavior based on three key metrics: Recency, Frequency, and Monetary Value.\n",
    "\n",
    "Recency refers to how recently a customer has made a purchase. Customers who have made purchases more recently are often considered more engaged and valuable.\n",
    "\n",
    "Frequency measures how often a customer makes purchases within a specific timeframe. Higher frequency often indicates strong loyalty and engagement.\n",
    "\n",
    "Monetary Value represents the amount of money a customer spends on purchases. Customers with higher monetary value are typically more profitable and valuable to a business.\n",
    "\n",
    "By analyzing RFM scores, which are derived from these three metrics, businesses can categorize customers into various segments, such as \"high-value,\" \"churn risk,\" \"low-engagement,\" etc. These segments provide insights that can guide personalized marketing strategies, product recommendations, and customer retention efforts.\n",
    "\n",
    "RFM analysis helps companies understand their customer base more deeply, allowing them to tailor marketing campaigns, optimize pricing strategies, and allocate resources effectively to enhance customer satisfaction and overall business profitability."
   ]
  },
  {
   "cell_type": "markdown",
   "metadata": {},
   "source": [
    "#### Import Necessary Libraries"
   ]
  },
  {
   "cell_type": "code",
   "execution_count": 1,
   "metadata": {},
   "outputs": [],
   "source": [
    "import random\n",
    "from datetime import datetime, timedelta\n",
    "import pandas as pd\n",
    "import seaborn as sns\n",
    "import matplotlib.pyplot as plt\n",
    "import seaborn as sns"
   ]
  },
  {
   "cell_type": "markdown",
   "metadata": {},
   "source": [
    "#### Generate Random Data"
   ]
  },
  {
   "cell_type": "code",
   "execution_count": 2,
   "metadata": {},
   "outputs": [],
   "source": [
    "# List of cities\n",
    "cities = [\"Mumbai\", \"Delhi\", \"Bengaluru\", \"Chennai\"]\n",
    "\n",
    "random.seed(42)\n",
    "\n",
    "# Generate random data\n",
    "data = []\n",
    "start_date = datetime(2023, 1, 1)\n",
    "end_date = datetime(2023, 6, 30)\n",
    "\n",
    "for _ in range(50000):\n",
    "    customer_id = random.randint(1000, 9999)\n",
    "    order_id = random.randint(10000, 99999)\n",
    "    city = random.choice(cities)\n",
    "    purchase_date = start_date + timedelta(days=random.randint(0, (end_date - start_date).days))\n",
    "    transaction_amount = round(random.uniform(15, 1500), 2)\n",
    "    \n",
    "    data.append({\n",
    "        \"Customer_ID\": customer_id,\n",
    "        \"Order_ID\": order_id,\n",
    "        \"City\": city,\n",
    "        \"Purchase_Date\": purchase_date.strftime(\"%Y-%m-%d\"),\n",
    "        \"Transaction_Amount\": transaction_amount\n",
    "    })\n",
    "    \n",
    "df = pd.DataFrame(data)"
   ]
  },
  {
   "cell_type": "markdown",
   "metadata": {},
   "source": [
    "#### Exploring Data"
   ]
  },
  {
   "cell_type": "code",
   "execution_count": 3,
   "metadata": {},
   "outputs": [
    {
     "name": "stdout",
     "output_type": "stream",
     "text": [
      "   Customer_ID  Order_ID       City Purchase_Date  Transaction_Amount\n",
      "0         2824     13278  Bengaluru    2023-03-04              346.47\n",
      "1         2679     98696     Mumbai    2023-06-01              641.55\n",
      "2         1488     22280      Delhi    2023-03-01              765.45\n",
      "3         1434     83563      Delhi    2023-06-16             1056.47\n",
      "4         7873     38893    Chennai    2023-05-31              428.11\n",
      "****************************************************************************************\n",
      "       Customer_ID  Order_ID       City Purchase_Date  Transaction_Amount\n",
      "49995         5472     27925    Chennai    2023-04-05             1003.41\n",
      "49996         3543     99277      Delhi    2023-06-12              666.80\n",
      "49997         7800     52170  Bengaluru    2023-05-13              213.90\n",
      "49998         7203     91592     Mumbai    2023-05-08              615.87\n",
      "49999         9737     39873    Chennai    2023-02-07              709.14\n"
     ]
    }
   ],
   "source": [
    "print(df.head())\n",
    "print(\"****************************************************************************************\")\n",
    "print(df.tail())"
   ]
  },
  {
   "cell_type": "code",
   "execution_count": 4,
   "metadata": {},
   "outputs": [
    {
     "name": "stdout",
     "output_type": "stream",
     "text": [
      "(50000, 5)\n",
      "****************************************************************************************\n",
      "Empty DataFrame\n",
      "Columns: [Customer_ID, Order_ID, City, Purchase_Date, Transaction_Amount]\n",
      "Index: []\n",
      "****************************************************************************************\n",
      "<class 'pandas.core.frame.DataFrame'>\n",
      "RangeIndex: 50000 entries, 0 to 49999\n",
      "Data columns (total 5 columns):\n",
      " #   Column              Non-Null Count  Dtype  \n",
      "---  ------              --------------  -----  \n",
      " 0   Customer_ID         50000 non-null  int64  \n",
      " 1   Order_ID            50000 non-null  int64  \n",
      " 2   City                50000 non-null  object \n",
      " 3   Purchase_Date       50000 non-null  object \n",
      " 4   Transaction_Amount  50000 non-null  float64\n",
      "dtypes: float64(1), int64(2), object(2)\n",
      "memory usage: 1.9+ MB\n",
      "None\n"
     ]
    }
   ],
   "source": [
    "print(df.shape)\n",
    "print(\"****************************************************************************************\")\n",
    "print(df[df.duplicated()])\n",
    "print(\"****************************************************************************************\")\n",
    "print(df.info())"
   ]
  },
  {
   "cell_type": "markdown",
   "metadata": {},
   "source": [
    "#### We identified there are no duplicates, no null values in the data"
   ]
  },
  {
   "cell_type": "code",
   "execution_count": 5,
   "metadata": {},
   "outputs": [],
   "source": [
    "# Change datatype of PurchseDate column\n",
    "df['Purchase_Date'] = pd.to_datetime(df['Purchase_Date'])"
   ]
  },
  {
   "cell_type": "code",
   "execution_count": 6,
   "metadata": {},
   "outputs": [],
   "source": [
    "# Calculate individual recency, frequency & monetary value\n",
    "current_date = datetime.now()\n",
    "df['Recency'] = (current_date - df['Purchase_Date']).dt.days\n",
    "\n",
    "df['Frequency'] = df.groupby(\"Customer_ID\")['Order_ID'].transform(\"count\")\n",
    "\n",
    "df['Monetary_Value'] = df.groupby(\"Customer_ID\")['Transaction_Amount'].transform(\"sum\")"
   ]
  },
  {
   "cell_type": "code",
   "execution_count": 7,
   "metadata": {},
   "outputs": [
    {
     "data": {
      "text/html": [
       "<div>\n",
       "<style scoped>\n",
       "    .dataframe tbody tr th:only-of-type {\n",
       "        vertical-align: middle;\n",
       "    }\n",
       "\n",
       "    .dataframe tbody tr th {\n",
       "        vertical-align: top;\n",
       "    }\n",
       "\n",
       "    .dataframe thead th {\n",
       "        text-align: right;\n",
       "    }\n",
       "</style>\n",
       "<table border=\"1\" class=\"dataframe\">\n",
       "  <thead>\n",
       "    <tr style=\"text-align: right;\">\n",
       "      <th></th>\n",
       "      <th>Customer_ID</th>\n",
       "      <th>Order_ID</th>\n",
       "      <th>City</th>\n",
       "      <th>Purchase_Date</th>\n",
       "      <th>Transaction_Amount</th>\n",
       "      <th>Recency</th>\n",
       "      <th>Frequency</th>\n",
       "      <th>Monetary_Value</th>\n",
       "    </tr>\n",
       "  </thead>\n",
       "  <tbody>\n",
       "    <tr>\n",
       "      <th>0</th>\n",
       "      <td>2824</td>\n",
       "      <td>13278</td>\n",
       "      <td>Bengaluru</td>\n",
       "      <td>2023-03-04</td>\n",
       "      <td>346.47</td>\n",
       "      <td>166</td>\n",
       "      <td>4</td>\n",
       "      <td>2021.11</td>\n",
       "    </tr>\n",
       "    <tr>\n",
       "      <th>1</th>\n",
       "      <td>2679</td>\n",
       "      <td>98696</td>\n",
       "      <td>Mumbai</td>\n",
       "      <td>2023-06-01</td>\n",
       "      <td>641.55</td>\n",
       "      <td>77</td>\n",
       "      <td>6</td>\n",
       "      <td>3979.84</td>\n",
       "    </tr>\n",
       "  </tbody>\n",
       "</table>\n",
       "</div>"
      ],
      "text/plain": [
       "   Customer_ID  Order_ID       City Purchase_Date  Transaction_Amount  \\\n",
       "0         2824     13278  Bengaluru    2023-03-04              346.47   \n",
       "1         2679     98696     Mumbai    2023-06-01              641.55   \n",
       "\n",
       "   Recency  Frequency  Monetary_Value  \n",
       "0      166          4         2021.11  \n",
       "1       77          6         3979.84  "
      ]
     },
     "execution_count": 7,
     "metadata": {},
     "output_type": "execute_result"
    }
   ],
   "source": [
    "df.head(2)"
   ]
  },
  {
   "cell_type": "code",
   "execution_count": 8,
   "metadata": {},
   "outputs": [],
   "source": [
    "# Calculate Recency Score, Frequency Score, Monetary Score\n",
    "\n",
    "df['Recency_Score'] = pd.cut(df['Recency'], bins= 5, labels= [5,4,3,2,1])\n",
    "df['Frequency_Score'] = pd.cut(df['Frequency'], bins= 5, labels= [1,2,3,4,5])\n",
    "df['Monetary_Score'] = pd.cut(df['Monetary_Value'], bins= 5, labels= [1,2,3,4,5])\n",
    "\n",
    "# Converting scores to int datatype\n",
    "df[['Recency_Score', 'Frequency_Score', 'Monetary_Score']] = df[['Recency_Score', 'Frequency_Score', 'Monetary_Score']].astype(int)"
   ]
  },
  {
   "cell_type": "markdown",
   "metadata": {},
   "source": [
    "### Individual R,F,M Scores\n",
    "+ Most recent orders purchases gets the highest score and vice-versa\n",
    "+ More frequent orders gets the highest score and vice-versa\n",
    "+ Highest order value gets the highest score and vice-versa"
   ]
  },
  {
   "cell_type": "code",
   "execution_count": 9,
   "metadata": {},
   "outputs": [
    {
     "data": {
      "text/html": [
       "<div>\n",
       "<style scoped>\n",
       "    .dataframe tbody tr th:only-of-type {\n",
       "        vertical-align: middle;\n",
       "    }\n",
       "\n",
       "    .dataframe tbody tr th {\n",
       "        vertical-align: top;\n",
       "    }\n",
       "\n",
       "    .dataframe thead th {\n",
       "        text-align: right;\n",
       "    }\n",
       "</style>\n",
       "<table border=\"1\" class=\"dataframe\">\n",
       "  <thead>\n",
       "    <tr style=\"text-align: right;\">\n",
       "      <th></th>\n",
       "      <th>Customer_ID</th>\n",
       "      <th>Order_ID</th>\n",
       "      <th>City</th>\n",
       "      <th>Purchase_Date</th>\n",
       "      <th>Transaction_Amount</th>\n",
       "      <th>Recency</th>\n",
       "      <th>Frequency</th>\n",
       "      <th>Monetary_Value</th>\n",
       "      <th>Recency_Score</th>\n",
       "      <th>Frequency_Score</th>\n",
       "      <th>Monetary_Score</th>\n",
       "    </tr>\n",
       "  </thead>\n",
       "  <tbody>\n",
       "    <tr>\n",
       "      <th>0</th>\n",
       "      <td>2824</td>\n",
       "      <td>13278</td>\n",
       "      <td>Bengaluru</td>\n",
       "      <td>2023-03-04</td>\n",
       "      <td>346.47</td>\n",
       "      <td>166</td>\n",
       "      <td>4</td>\n",
       "      <td>2021.11</td>\n",
       "      <td>2</td>\n",
       "      <td>1</td>\n",
       "      <td>1</td>\n",
       "    </tr>\n",
       "    <tr>\n",
       "      <th>1</th>\n",
       "      <td>2679</td>\n",
       "      <td>98696</td>\n",
       "      <td>Mumbai</td>\n",
       "      <td>2023-06-01</td>\n",
       "      <td>641.55</td>\n",
       "      <td>77</td>\n",
       "      <td>6</td>\n",
       "      <td>3979.84</td>\n",
       "      <td>5</td>\n",
       "      <td>2</td>\n",
       "      <td>2</td>\n",
       "    </tr>\n",
       "  </tbody>\n",
       "</table>\n",
       "</div>"
      ],
      "text/plain": [
       "   Customer_ID  Order_ID       City Purchase_Date  Transaction_Amount  \\\n",
       "0         2824     13278  Bengaluru    2023-03-04              346.47   \n",
       "1         2679     98696     Mumbai    2023-06-01              641.55   \n",
       "\n",
       "   Recency  Frequency  Monetary_Value  Recency_Score  Frequency_Score  \\\n",
       "0      166          4         2021.11              2                1   \n",
       "1       77          6         3979.84              5                2   \n",
       "\n",
       "   Monetary_Score  \n",
       "0               1  \n",
       "1               2  "
      ]
     },
     "execution_count": 9,
     "metadata": {},
     "output_type": "execute_result"
    }
   ],
   "source": [
    "df.head(2)"
   ]
  },
  {
   "cell_type": "markdown",
   "metadata": {},
   "source": [
    "### Calculating RFM Score\n",
    "+ RFM Score is calculated by summing recency score, frequency score and monetary score"
   ]
  },
  {
   "cell_type": "code",
   "execution_count": 10,
   "metadata": {},
   "outputs": [],
   "source": [
    "df['RFM_Score'] = df['Recency_Score'] + df['Frequency_Score'] + df['Monetary_Score']"
   ]
  },
  {
   "cell_type": "code",
   "execution_count": 11,
   "metadata": {},
   "outputs": [
    {
     "data": {
      "image/png": "[encoded data removed]",
      "text/plain": [
       "<Figure size 1440x360 with 1 Axes>"
      ]
     },
     "metadata": {
      "needs_background": "light"
     },
     "output_type": "display_data"
    }
   ],
   "source": [
    "plt.figure(figsize= (20,5))\n",
    "\n",
    "ax = sns.countplot(x='RFM_Score', data=df)\n",
    "\n",
    "# Annotate each bar with its count value\n",
    "for p in ax.patches:\n",
    "    ax.annotate(f'{p.get_height()}', \n",
    "                (p.get_x() + p.get_width() / 2., p.get_height()), \n",
    "                ha='center', va='center', xytext=(0, 5), \n",
    "                textcoords='offset points', fontsize=10)\n",
    "\n",
    "plt.show()"
   ]
  },
  {
   "cell_type": "markdown",
   "metadata": {},
   "source": [
    "#### As we can see the value counts of the RFM Scores, most customers have rfm scores between the score of 6-9"
   ]
  },
  {
   "cell_type": "markdown",
   "metadata": {},
   "source": [
    "## RFM Value Segmentation"
   ]
  },
  {
   "cell_type": "code",
   "execution_count": 12,
   "metadata": {},
   "outputs": [],
   "source": [
    "# Create Segment based on RFM Score\n",
    "df['Value_Segment'] = pd.qcut(df['RFM_Score'], q= 3, labels= ['Low_Value','Mid_Value','High_Value'])"
   ]
  },
  {
   "cell_type": "code",
   "execution_count": 13,
   "metadata": {},
   "outputs": [
    {
     "data": {
      "image/png": "[encoded data removed]",
      "text/plain": [
       "<Figure size 576x432 with 1 Axes>"
      ]
     },
     "metadata": {},
     "output_type": "display_data"
    }
   ],
   "source": [
    "value_counts = df['Value_Segment'].value_counts()\n",
    "\n",
    "plt.figure(figsize=(8, 6), facecolor= \"lightgray\")\n",
    "plt.pie(value_counts, labels=value_counts.index, autopct='%1.1f%%', startangle=140, wedgeprops={'edgecolor': 'black'},\n",
    "        textprops={'color': 'black', 'fontsize': 12})\n",
    "plt.axis('equal')\n",
    "plt.title('Value Segment Distribution', fontsize = 14)\n",
    "\n",
    "plt.show()"
   ]
  },
  {
   "cell_type": "markdown",
   "metadata": {},
   "source": [
    "#### As per value segment distribution we have 51.3% of lowe-value customers, followed by 31.5% of high-value customers and mid-value customers with 17.3% contribution."
   ]
  },
  {
   "cell_type": "markdown",
   "metadata": {},
   "source": [
    "## RFM Customer Segmentation"
   ]
  },
  {
   "cell_type": "code",
   "execution_count": 14,
   "metadata": {},
   "outputs": [],
   "source": [
    "# Creating a new column for RFM Customer Segments\n",
    "\n",
    "df['RFM_Customer_Segment'] = ''\n",
    "\n",
    "for i, row in df.iterrows():\n",
    "    rfm_score = row['RFM_Score']\n",
    "    \n",
    "    if rfm_score >= 9:\n",
    "        df.at[i, 'RFM_Customer_Segment'] = 'Champions'\n",
    "    elif 6 <= rfm_score < 9:\n",
    "        df.at[i, 'RFM_Customer_Segment'] = 'Potential Loyalists'\n",
    "    elif 5 <= rfm_score < 6:\n",
    "        df.at[i, 'RFM_Customer_Segment'] = 'At Risk Customers'\n",
    "    elif 4 <= rfm_score < 5:\n",
    "        df.at[i, 'RFM_Customer_Segment'] = \"Can't Lose\"\n",
    "    elif 3 <= rfm_score < 4:\n",
    "        df.at[i, 'RFM_Customer_Segment'] = \"Lost\"\n"
   ]
  },
  {
   "cell_type": "code",
   "execution_count": 15,
   "metadata": {},
   "outputs": [
    {
     "data": {
      "image/png": "[encoded data removed]",
      "text/plain": [
       "<Figure size 1080x504 with 1 Axes>"
      ]
     },
     "metadata": {
      "needs_background": "light"
     },
     "output_type": "display_data"
    }
   ],
   "source": [
    "plt.figure(figsize=(15,7))\n",
    "\n",
    "plt.bar(df['RFM_Customer_Segment'].value_counts().index, df['RFM_Customer_Segment'].value_counts().values, color= sns.color_palette(\"pastel\"), ec= 'black')\n",
    "\n",
    "for i, count in enumerate(df['RFM_Customer_Segment'].value_counts().values):\n",
    "    plt.text(i, count + 1, str(count), ha='center', va='bottom', fontsize=12)\n",
    "\n",
    "plt.title(\"RFM Customer Segment Distribution\", fontsize=18, fontweight='bold')\n",
    "plt.xlabel(\"RFM Customer Segment\", fontsize=14, fontweight='bold')\n",
    "plt.ylabel(\"Count\", fontsize=14, fontweight='bold')\n",
    "    \n",
    "plt.show()"
   ]
  },
  {
   "cell_type": "markdown",
   "metadata": {},
   "source": [
    "#### Customer Segmentation indicates that most of the customers are potential loyalists followed by champions"
   ]
  },
  {
   "cell_type": "markdown",
   "metadata": {},
   "source": [
    "### Analyzing Customer Segmentation with Value Segmentation"
   ]
  },
  {
   "cell_type": "code",
   "execution_count": 16,
   "metadata": {},
   "outputs": [
    {
     "data": {
      "image/png": "[encoded data removed]",
      "text/plain": [
       "<Figure size 720x432 with 1 Axes>"
      ]
     },
     "metadata": {
      "needs_background": "light"
     },
     "output_type": "display_data"
    }
   ],
   "source": [
    "df2 = df[['Value_Segment', 'RFM_Customer_Segment']]\n",
    "pivot_data = df2.pivot_table(index='Value_Segment', columns='RFM_Customer_Segment', aggfunc=len, fill_value=0)\n",
    "ax = pivot_data.plot(kind='bar', stacked=True, figsize=(10, 6))\n",
    "plt.show()"
   ]
  },
  {
   "cell_type": "markdown",
   "metadata": {},
   "source": [
    "+ It gives us the information how customer segmentation is divided among the value segmentation\n",
    "+ We get the info that all the high-value customers are champions with rfm score more than 9\n",
    "+ All the mid-value customers are potential loyalists having rfm score between 6 and 9\n",
    "+ Low-value segment is divided between at risk customers, can't lose, lost and maximum number of potential loyalists"
   ]
  },
  {
   "cell_type": "markdown",
   "metadata": {},
   "source": [
    "### Customer Segmentation with individual RFM Score"
   ]
  },
  {
   "cell_type": "code",
   "execution_count": 17,
   "metadata": {},
   "outputs": [
    {
     "data": {
      "text/html": [
       "<div>\n",
       "<style scoped>\n",
       "    .dataframe tbody tr th:only-of-type {\n",
       "        vertical-align: middle;\n",
       "    }\n",
       "\n",
       "    .dataframe tbody tr th {\n",
       "        vertical-align: top;\n",
       "    }\n",
       "\n",
       "    .dataframe thead th {\n",
       "        text-align: right;\n",
       "    }\n",
       "</style>\n",
       "<table border=\"1\" class=\"dataframe\">\n",
       "  <thead>\n",
       "    <tr style=\"text-align: right;\">\n",
       "      <th></th>\n",
       "      <th>RFM_Customer_Segment</th>\n",
       "      <th>RFM_variable</th>\n",
       "      <th>Mean_Scores</th>\n",
       "    </tr>\n",
       "  </thead>\n",
       "  <tbody>\n",
       "    <tr>\n",
       "      <th>0</th>\n",
       "      <td>At Risk Customers</td>\n",
       "      <td>Recency_Score</td>\n",
       "      <td>1.59</td>\n",
       "    </tr>\n",
       "    <tr>\n",
       "      <th>1</th>\n",
       "      <td>Can't Lose</td>\n",
       "      <td>Recency_Score</td>\n",
       "      <td>1.50</td>\n",
       "    </tr>\n",
       "    <tr>\n",
       "      <th>2</th>\n",
       "      <td>Champions</td>\n",
       "      <td>Recency_Score</td>\n",
       "      <td>4.18</td>\n",
       "    </tr>\n",
       "    <tr>\n",
       "      <th>3</th>\n",
       "      <td>Lost</td>\n",
       "      <td>Recency_Score</td>\n",
       "      <td>1.00</td>\n",
       "    </tr>\n",
       "    <tr>\n",
       "      <th>4</th>\n",
       "      <td>Potential Loyalists</td>\n",
       "      <td>Recency_Score</td>\n",
       "      <td>2.84</td>\n",
       "    </tr>\n",
       "  </tbody>\n",
       "</table>\n",
       "</div>"
      ],
      "text/plain": [
       "  RFM_Customer_Segment   RFM_variable  Mean_Scores\n",
       "0    At Risk Customers  Recency_Score         1.59\n",
       "1           Can't Lose  Recency_Score         1.50\n",
       "2            Champions  Recency_Score         4.18\n",
       "3                 Lost  Recency_Score         1.00\n",
       "4  Potential Loyalists  Recency_Score         2.84"
      ]
     },
     "execution_count": 17,
     "metadata": {},
     "output_type": "execute_result"
    }
   ],
   "source": [
    "df3 = df.groupby([\"RFM_Customer_Segment\"]).mean()[['Recency_Score', 'Frequency_Score', 'Monetary_Score']].round(2).reset_index()\n",
    "df3 = df3.melt(id_vars= \"RFM_Customer_Segment\", var_name= \"RFM_variable\", value_name= \"Mean_Scores\")\n",
    "df3.head()"
   ]
  },
  {
   "cell_type": "code",
   "execution_count": 18,
   "metadata": {},
   "outputs": [
    {
     "data": {
      "image/png": "[encoded data removed]",
      "text/plain": [
       "<Figure size 1080x432 with 1 Axes>"
      ]
     },
     "metadata": {
      "needs_background": "light"
     },
     "output_type": "display_data"
    }
   ],
   "source": [
    "plt.figure(figsize= (15,6))\n",
    "sns.barplot(x= \"RFM_Customer_Segment\", y= \"Mean_Scores\", hue= \"RFM_variable\", data= df3)\n",
    "plt.title(\"Customer Segmentation with Mean RFM Score\")\n",
    "plt.show()"
   ]
  },
  {
   "cell_type": "markdown",
   "metadata": {},
   "source": [
    "#### Analyzing above chart gives us the idea that mean rfm scores of champions is the highest followed by potential loyalists"
   ]
  },
  {
   "cell_type": "code",
   "execution_count": null,
   "metadata": {},
   "outputs": [],
   "source": []
  }
 ],
 "metadata": {
  "kernelspec": {
   "display_name": "Python 3 (ipykernel)",
   "language": "python",
   "name": "python3"
  },
  "language_info": {
   "codemirror_mode": {
    "name": "ipython",
    "version": 3
   },
   "file_extension": ".py",
   "mimetype": "text/x-python",
   "name": "python",
   "nbconvert_exporter": "python",
   "pygments_lexer": "ipython3",
   "version": "3.9.12"
  }
 },
 "nbformat": 4,
 "nbformat_minor": 2
}
